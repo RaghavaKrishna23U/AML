{
  "cells": [
    {
      "cell_type": "code",
      "source": [
        "import pandas as pd\n",
        "import numpy as np\n",
        "from sklearn.datasets import make_classification\n",
        "from azure.identity import DefaultAzureCredential\n",
        "from azure.ai.ml import MLClient"
      ],
      "outputs": [],
      "execution_count": 10,
      "metadata": {
        "gather": {
          "logged": 1733207127988
        }
      }
    },
    {
      "cell_type": "code",
      "source": [
        "class SimpleDataGenerator:\n",
        "    def __init__(self, subscription_id, resource_group, workspace_name):\n",
        "        \"\"\"Initialize Azure ML client.\"\"\"\n",
        "        self.ml_client = MLClient(\n",
        "            DefaultAzureCredential(),\n",
        "            #subscription_id=subscription_id,\n",
        "            #resource_group=resource_group,\n",
        "            #workspace_name=workspace_name\n",
        "        )\n",
        "\n",
        "    def generate_data(self, n_samples=1000, output_file=\"energy_data.csv\"):\n",
        "        \"\"\"Generate synthetic energy requirement data.\"\"\"\n",
        "        # Generate synthetic data\n",
        "        X, y = make_classification(\n",
        "            n_samples=n_samples,\n",
        "            n_features=10,\n",
        "            n_informative=5,\n",
        "            n_redundant=2,\n",
        "            n_classes=2,\n",
        "            random_state=42\n",
        "        )\n",
        "\n",
        "        # Create feature names and DataFrame\n",
        "        feature_names = [\n",
        "            \"Temperature (°C)\", \"Humidity (%)\", \"Energy Usage (kWh)\",\n",
        "            \"Peak Hours (hours)\", \"Cost of Energy ($)\", \"Weather Index\",\n",
        "            \"Appliance Load (%)\", \"Solar Output (kWh)\", \"Wind Output (kWh)\", \"Seasonality Index\"\n",
        "        ]\n",
        "        df = pd.DataFrame(X, columns=feature_names)\n",
        "        df[\"Energy_Requirement\"] = np.where(y == 1, \"Yes\", \"No\")\n",
        "\n",
        "        # Save data locally\n",
        "        df.to_csv(output_file, index=False)\n",
        "        print(f\"Data generated and saved locally at: {output_file}\")\n",
        "        return output_file\n",
        "\n",
        "    def upload_to_datastore(self, local_file, datastore_path):\n",
        "        \"\"\"Upload the generated data to Azure ML datastore.\"\"\"\n",
        "        datastore = self.ml_client.datastores.get(\"workspaceblobstore\")  # Default datastore\n",
        "        datastore.upload(\n",
        "            local_path=local_file,\n",
        "            target_path=datastore_path,\n",
        "            overwrite=True\n",
        "        )\n",
        "        print(f\"Data uploaded to datastore at: {datastore_path}\")"
      ],
      "outputs": [],
      "execution_count": 16,
      "metadata": {
        "jupyter": {
          "source_hidden": false,
          "outputs_hidden": false
        },
        "nteract": {
          "transient": {
            "deleting": false
          }
        },
        "gather": {
          "logged": 1733207377037
        }
      }
    },
    {
      "cell_type": "code",
      "source": [
        "if __name__ == \"__main__\":\n",
        "    # Azure ML Workspace details\n",
        "    subscription_id=\"9c15fe3b-278f-4875-b39a-d756406c9775\"\n",
        "    resource_group=\"DP-100\"\n",
        "    workspace_name=\"dp_100_learning\"\n",
        "\n",
        "    # Initialize the data generator\n",
        "    data_generator = SimpleDataGenerator(subscription_id, resource_group, workspace_name)\n",
        "\n",
        "    # Generate synthetic data\n",
        "    local_file = data_generator.generate_data(n_samples=1000, output_file=\"../data/energy_data/input_data/energy_data.csv\")\n",
        "\n",
        "    # Upload the data to Azure ML datastore\n",
        "    #data_generator.upload_to_datastore(local_file, datastore_path=\"datasets/energy_data/\")"
      ],
      "outputs": [
        {
          "output_type": "stream",
          "name": "stdout",
          "text": "Data generated and saved locally at: ../data/energy_data/input_data/energy_data.csv\n"
        }
      ],
      "execution_count": 18,
      "metadata": {
        "jupyter": {
          "source_hidden": false,
          "outputs_hidden": false
        },
        "nteract": {
          "transient": {
            "deleting": false
          }
        },
        "gather": {
          "logged": 1733207548190
        }
      }
    },
    {
      "cell_type": "code",
      "source": [],
      "outputs": [],
      "execution_count": null,
      "metadata": {
        "jupyter": {
          "source_hidden": false,
          "outputs_hidden": false
        },
        "nteract": {
          "transient": {
            "deleting": false
          }
        }
      }
    }
  ],
  "metadata": {
    "kernelspec": {
      "name": "python310-sdkv2",
      "language": "python",
      "display_name": "Python 3.10 - SDK v2"
    },
    "language_info": {
      "name": "python",
      "version": "3.10.14",
      "mimetype": "text/x-python",
      "codemirror_mode": {
        "name": "ipython",
        "version": 3
      },
      "pygments_lexer": "ipython3",
      "nbconvert_exporter": "python",
      "file_extension": ".py"
    },
    "microsoft": {
      "ms_spell_check": {
        "ms_spell_check_language": "en"
      },
      "host": {
        "AzureML": {
          "notebookHasBeenCompleted": true
        }
      }
    },
    "kernel_info": {
      "name": "python310-sdkv2"
    },
    "nteract": {
      "version": "nteract-front-end@1.0.0"
    }
  },
  "nbformat": 4,
  "nbformat_minor": 2
}