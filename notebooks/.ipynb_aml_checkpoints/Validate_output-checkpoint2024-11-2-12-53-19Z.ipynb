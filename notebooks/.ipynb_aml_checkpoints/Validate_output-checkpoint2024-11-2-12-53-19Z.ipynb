{
  "cells": [
    {
      "cell_type": "code",
      "source": [
        "\n",
        "# azureml-core of version 1.0.72 or higher is required\n",
        "from azureml.core import Workspace, Dataset\n",
        "\n",
        "subscription_id = '9c15fe3b-278f-4875-b39a-d756406c9775'\n",
        "resource_group = 'DP-100'\n",
        "workspace_name = 'dp_100_learning'\n",
        "\n",
        "workspace = Workspace(subscription_id, resource_group, workspace_name)\n",
        "\n",
        "dataset = Dataset.get_by_id(workspace, '6438fe03-64ee-4ed7-a828-d38e464760bc')\n",
        "dataset.download(target_path='.', overwrite=False)"
      ],
      "outputs": [
        {
          "output_type": "stream",
          "name": "stdout",
          "text": "{'infer_column_types': 'False', 'activity': 'download.to_path'}\n{'infer_column_types': 'False', 'activity': 'download.to_path', 'activityApp': 'FileDataset'}\n{'infer_column_types': 'False', 'activity': 'download'}\n{'infer_column_types': 'False', 'activity': 'download', 'activityApp': 'FileDataset'}\n"
        },
        {
          "output_type": "execute_result",
          "execution_count": 1,
          "data": {
            "text/plain": "['/mnt/batch/tasks/shared/LS_root/mounts/clusters/notebookcluster/code/Users/RaghavaKrishnaU/predictions.csv']"
          },
          "metadata": {}
        }
      ],
      "execution_count": 1,
      "metadata": {
        "gather": {
          "logged": 1733143809354
        }
      }
    },
    {
      "cell_type": "code",
      "source": [],
      "outputs": [],
      "execution_count": null,
      "metadata": {
        "jupyter": {
          "source_hidden": false,
          "outputs_hidden": false
        },
        "nteract": {
          "transient": {
            "deleting": false
          }
        }
      }
    }
  ],
  "metadata": {
    "kernelspec": {
      "name": "python310-sdkv2",
      "language": "python",
      "display_name": "Python 3.10 - SDK v2"
    },
    "language_info": {
      "name": "python",
      "version": "3.10.14",
      "mimetype": "text/x-python",
      "codemirror_mode": {
        "name": "ipython",
        "version": 3
      },
      "pygments_lexer": "ipython3",
      "nbconvert_exporter": "python",
      "file_extension": ".py"
    },
    "microsoft": {
      "ms_spell_check": {
        "ms_spell_check_language": "en"
      }
    },
    "kernel_info": {
      "name": "python310-sdkv2"
    },
    "nteract": {
      "version": "nteract-front-end@1.0.0"
    }
  },
  "nbformat": 4,
  "nbformat_minor": 2
}