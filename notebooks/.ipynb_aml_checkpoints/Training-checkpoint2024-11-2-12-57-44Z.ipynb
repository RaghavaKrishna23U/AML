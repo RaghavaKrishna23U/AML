{
  "cells": [
    {
      "cell_type": "code",
      "source": [
        "import pandas as pd\n",
        "import numpy as np\n",
        "from sklearn.model_selection import train_test_split\n",
        "from sklearn.ensemble import RandomForestClassifier\n",
        "from sklearn.linear_model import LogisticRegression\n",
        "from sklearn.tree import DecisionTreeClassifier\n",
        "from sklearn.svm import SVC\n",
        "from sklearn.metrics import accuracy_score, precision_score, recall_score, f1_score\n",
        "import mlflow\n",
        "import mlflow.sklearn\n",
        "from azureml.core import Workspace\n",
        "from azureml.core import Experiment"
      ],
      "outputs": [],
      "execution_count": 1,
      "metadata": {
        "gather": {
          "logged": 1733142177707
        }
      }
    },
    {
      "cell_type": "code",
      "source": [
        "df = pd.read_csv(\"../data/energy_requirement_dataset.csv\")"
      ],
      "outputs": [],
      "execution_count": 2,
      "metadata": {
        "jupyter": {
          "source_hidden": false,
          "outputs_hidden": false
        },
        "nteract": {
          "transient": {
            "deleting": false
          }
        },
        "gather": {
          "logged": 1733142586776
        }
      }
    },
    {
      "cell_type": "code",
      "source": [
        "# Separate features and target\n",
        "X = df.drop(columns=[\"Energy_Requirement\"])\n",
        "y = df[\"Energy_Requirement\"].apply(lambda x: 1 if x == \"Yes\" else 0)\n",
        "\n",
        "# Split the data into training and testing sets\n",
        "X_train, X_test, y_train, y_test = train_test_split(X, y, test_size=0.2, random_state=42)"
      ],
      "outputs": [],
      "execution_count": 3,
      "metadata": {
        "jupyter": {
          "source_hidden": false,
          "outputs_hidden": false
        },
        "nteract": {
          "transient": {
            "deleting": false
          }
        },
        "gather": {
          "logged": 1733142590142
        }
      }
    },
    {
      "cell_type": "code",
      "source": [
        "\n",
        "# Save the split files\n",
        "prediction_file = \"../data/prediction_data.csv\"\n",
        "X_test.to_csv(prediction_file, index=False)"
      ],
      "outputs": [],
      "execution_count": 4,
      "metadata": {
        "jupyter": {
          "source_hidden": false,
          "outputs_hidden": false
        },
        "nteract": {
          "transient": {
            "deleting": false
          }
        },
        "gather": {
          "logged": 1733142593044
        }
      }
    },
    {
      "cell_type": "code",
      "source": [
        "ws = Workspace.from_config()\n",
        "mlflow.set_tracking_uri(ws.get_mlflow_tracking_uri())"
      ],
      "outputs": [],
      "execution_count": 5,
      "metadata": {
        "jupyter": {
          "source_hidden": false,
          "outputs_hidden": false
        },
        "nteract": {
          "transient": {
            "deleting": false
          }
        },
        "gather": {
          "logged": 1733137864512
        }
      }
    },
    {
      "cell_type": "code",
      "source": [
        "experiment_name = \"energy-requirement-prediction\"\n",
        "mlflow.set_experiment(experiment_name)"
      ],
      "outputs": [
        {
          "output_type": "stream",
          "name": "stderr",
          "text": "2024/12/02 11:11:20 INFO mlflow.tracking.fluent: Experiment with name 'energy-requirement-prediction' does not exist. Creating a new experiment.\n"
        },
        {
          "output_type": "execute_result",
          "execution_count": 6,
          "data": {
            "text/plain": "<Experiment: artifact_location='', creation_time=1733137880649, experiment_id='fe4a8323-1fb3-49a4-a510-45464a5acfe8', last_update_time=None, lifecycle_stage='active', name='energy-requirement-prediction', tags={}>"
          },
          "metadata": {}
        }
      ],
      "execution_count": 6,
      "metadata": {
        "jupyter": {
          "source_hidden": false,
          "outputs_hidden": false
        },
        "nteract": {
          "transient": {
            "deleting": false
          }
        },
        "gather": {
          "logged": 1733137881213
        }
      }
    },
    {
      "cell_type": "code",
      "source": [
        "models = {\n",
        "    \"Random Forest\": RandomForestClassifier(n_estimators=100, random_state=42),\n",
        "    \"Logistic Regression\": LogisticRegression(max_iter=200, random_state=42),\n",
        "    \"Decision Tree\": DecisionTreeClassifier(random_state=42),\n",
        "    \"Support Vector Machine\": SVC(probability=True, random_state=42)\n",
        "}"
      ],
      "outputs": [],
      "execution_count": 7,
      "metadata": {
        "jupyter": {
          "source_hidden": false,
          "outputs_hidden": false
        },
        "nteract": {
          "transient": {
            "deleting": false
          }
        },
        "gather": {
          "logged": 1733137923507
        }
      }
    },
    {
      "cell_type": "code",
      "source": [
        "# Train and log models\n",
        "for model_name, model in models.items():\n",
        "    with mlflow.start_run():\n",
        "        # Log model name\n",
        "        mlflow.log_param(\"model_name\", model_name)\n",
        "\n",
        "        # Train the model\n",
        "        model.fit(X_train, y_train)\n",
        "\n",
        "        # Predict on test data\n",
        "        y_pred = model.predict(X_test)\n",
        "\n",
        "        # Evaluate the model\n",
        "        accuracy = accuracy_score(y_test, y_pred)\n",
        "        precision = precision_score(y_test, y_pred)\n",
        "        recall = recall_score(y_test, y_pred)\n",
        "        f1 = f1_score(y_test, y_pred)\n",
        "\n",
        "        # Log metrics\n",
        "        mlflow.log_metric(\"accuracy\", accuracy)\n",
        "        mlflow.log_metric(\"precision\", precision)\n",
        "        mlflow.log_metric(\"recall\", recall)\n",
        "        mlflow.log_metric(\"f1_score\", f1)\n",
        "\n",
        "        # Log model\n",
        "        mlflow.sklearn.log_model(model, artifact_path=\"models\")\n",
        "\n",
        "        print(f\"Logged {model_name}: Accuracy={accuracy:.2f}, F1 Score={f1:.2f}\")"
      ],
      "outputs": [
        {
          "output_type": "stream",
          "name": "stderr",
          "text": "2024/12/02 11:12:21 WARNING mlflow.models.model: Model logged without a signature and input example. Please set `input_example` parameter when logging the model to auto infer the model signature.\n2024/12/02 11:12:31 WARNING mlflow.models.model: Model logged without a signature and input example. Please set `input_example` parameter when logging the model to auto infer the model signature.\n2024/12/02 11:12:39 WARNING mlflow.models.model: Model logged without a signature and input example. Please set `input_example` parameter when logging the model to auto infer the model signature.\n2024/12/02 11:12:46 WARNING mlflow.models.model: Model logged without a signature and input example. Please set `input_example` parameter when logging the model to auto infer the model signature.\n"
        },
        {
          "output_type": "stream",
          "name": "stdout",
          "text": "Logged Random Forest: Accuracy=0.94, F1 Score=0.94\n🏃 View run busy_heart_0y4f64c3 at: https://northcentralus.api.azureml.ms/mlflow/v2.0/subscriptions/9c15fe3b-278f-4875-b39a-d756406c9775/resourceGroups/dp-100/providers/Microsoft.MachineLearningServices/workspaces/dp_100_learning/#/experiments/fe4a8323-1fb3-49a4-a510-45464a5acfe8/runs/b4c17d25-8267-429f-a9e5-5afb87073519\n🧪 View experiment at: https://northcentralus.api.azureml.ms/mlflow/v2.0/subscriptions/9c15fe3b-278f-4875-b39a-d756406c9775/resourceGroups/dp-100/providers/Microsoft.MachineLearningServices/workspaces/dp_100_learning/#/experiments/fe4a8323-1fb3-49a4-a510-45464a5acfe8\nLogged Logistic Regression: Accuracy=0.83, F1 Score=0.81\n🏃 View run silver_queen_fhth8lc2 at: https://northcentralus.api.azureml.ms/mlflow/v2.0/subscriptions/9c15fe3b-278f-4875-b39a-d756406c9775/resourceGroups/dp-100/providers/Microsoft.MachineLearningServices/workspaces/dp_100_learning/#/experiments/fe4a8323-1fb3-49a4-a510-45464a5acfe8/runs/99a6e7bb-7efd-42ab-91a6-9bf93e76b7bf\n🧪 View experiment at: https://northcentralus.api.azureml.ms/mlflow/v2.0/subscriptions/9c15fe3b-278f-4875-b39a-d756406c9775/resourceGroups/dp-100/providers/Microsoft.MachineLearningServices/workspaces/dp_100_learning/#/experiments/fe4a8323-1fb3-49a4-a510-45464a5acfe8\nLogged Decision Tree: Accuracy=0.90, F1 Score=0.88\n🏃 View run loyal_pocket_6hhbg35l at: https://northcentralus.api.azureml.ms/mlflow/v2.0/subscriptions/9c15fe3b-278f-4875-b39a-d756406c9775/resourceGroups/dp-100/providers/Microsoft.MachineLearningServices/workspaces/dp_100_learning/#/experiments/fe4a8323-1fb3-49a4-a510-45464a5acfe8/runs/5d261cf9-5fa5-467b-bef9-0aada4a5944b\n🧪 View experiment at: https://northcentralus.api.azureml.ms/mlflow/v2.0/subscriptions/9c15fe3b-278f-4875-b39a-d756406c9775/resourceGroups/dp-100/providers/Microsoft.MachineLearningServices/workspaces/dp_100_learning/#/experiments/fe4a8323-1fb3-49a4-a510-45464a5acfe8\nLogged Support Vector Machine: Accuracy=0.92, F1 Score=0.91\n🏃 View run calm_star_3151qs86 at: https://northcentralus.api.azureml.ms/mlflow/v2.0/subscriptions/9c15fe3b-278f-4875-b39a-d756406c9775/resourceGroups/dp-100/providers/Microsoft.MachineLearningServices/workspaces/dp_100_learning/#/experiments/fe4a8323-1fb3-49a4-a510-45464a5acfe8/runs/b9735efd-e862-41f9-8876-b24bf799a348\n🧪 View experiment at: https://northcentralus.api.azureml.ms/mlflow/v2.0/subscriptions/9c15fe3b-278f-4875-b39a-d756406c9775/resourceGroups/dp-100/providers/Microsoft.MachineLearningServices/workspaces/dp_100_learning/#/experiments/fe4a8323-1fb3-49a4-a510-45464a5acfe8\n"
        }
      ],
      "execution_count": 8,
      "metadata": {
        "jupyter": {
          "source_hidden": false,
          "outputs_hidden": false
        },
        "nteract": {
          "transient": {
            "deleting": false
          }
        },
        "gather": {
          "logged": 1733137967845
        }
      }
    },
    {
      "cell_type": "code",
      "source": [
        "# Completion message\n",
        "print(f\"Experiment '{experiment_name}' completed. Check Azure ML Studio for results.\")"
      ],
      "outputs": [
        {
          "output_type": "stream",
          "name": "stdout",
          "text": "Experiment 'energy-requirement-prediction' completed. Check Azure ML Studio for results.\n"
        }
      ],
      "execution_count": 9,
      "metadata": {
        "jupyter": {
          "source_hidden": false,
          "outputs_hidden": false
        },
        "nteract": {
          "transient": {
            "deleting": false
          }
        },
        "gather": {
          "logged": 1733137968105
        }
      }
    },
    {
      "cell_type": "code",
      "source": [],
      "outputs": [],
      "execution_count": null,
      "metadata": {
        "jupyter": {
          "source_hidden": false,
          "outputs_hidden": false
        },
        "nteract": {
          "transient": {
            "deleting": false
          }
        }
      }
    }
  ],
  "metadata": {
    "kernelspec": {
      "name": "python310-sdkv2",
      "language": "python",
      "display_name": "Python 3.10 - SDK v2"
    },
    "language_info": {
      "name": "python",
      "version": "3.10.14",
      "mimetype": "text/x-python",
      "codemirror_mode": {
        "name": "ipython",
        "version": 3
      },
      "pygments_lexer": "ipython3",
      "nbconvert_exporter": "python",
      "file_extension": ".py"
    },
    "microsoft": {
      "ms_spell_check": {
        "ms_spell_check_language": "en"
      },
      "host": {
        "AzureML": {
          "notebookHasBeenCompleted": true
        }
      }
    },
    "kernel_info": {
      "name": "python310-sdkv2"
    },
    "nteract": {
      "version": "nteract-front-end@1.0.0"
    }
  },
  "nbformat": 4,
  "nbformat_minor": 2
}