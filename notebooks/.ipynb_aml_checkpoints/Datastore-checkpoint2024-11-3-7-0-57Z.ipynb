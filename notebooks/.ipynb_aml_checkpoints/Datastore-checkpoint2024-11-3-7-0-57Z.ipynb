{
  "cells": [
    {
      "cell_type": "code",
      "source": [
        "from azureml.core import Workspace, Dataset\n",
        "from azureml.core.compute import ComputeTarget\n",
        "\n",
        "# Connect to Azure ML Workspace\n",
        "ws = Workspace.from_config()\n"
      ],
      "outputs": [],
      "execution_count": 3,
      "metadata": {
        "gather": {
          "logged": 1733209227793
        }
      }
    },
    {
      "cell_type": "code",
      "source": [
        "\n",
        "# Define variables\n",
        "endpoint_name = \"svm-batch-ep\"  # Replace with your endpoint name\n",
        "input_data_path = \"../data/energy_data/input_data/prediction_data.csv\"    # Replace with your input data file path\n",
        "output_data_path = \"../data/energy_data/output_data\"     # Location to save output\n",
        "compute_target_name = \"computeclusterml\" # Replace with your compute cluster name"
      ],
      "outputs": [],
      "execution_count": 4,
      "metadata": {
        "jupyter": {
          "source_hidden": false,
          "outputs_hidden": false
        },
        "nteract": {
          "transient": {
            "deleting": false
          }
        },
        "gather": {
          "logged": 1733209229065
        }
      }
    },
    {
      "cell_type": "code",
      "source": [
        "\n",
        "# Upload input data to a datastore\n",
        "datastore = ws.get_default_datastore()\n",
        "'''\n",
        "datastore.upload_files(\n",
        "    files=[input_data_path],\n",
        "    target_path=\"batch_inputs/\",\n",
        "    overwrite=True,\n",
        ")\n",
        "'''\n",
        "input_data = Dataset.File.from_files(path=(datastore, input_data_path))\n",
        "datastore"
      ],
      "outputs": [
        {
          "output_type": "execute_result",
          "execution_count": 5,
          "data": {
            "text/plain": "{\n  \"name\": \"workspaceblobstore\",\n  \"container_name\": \"azureml-blobstore-62880345-ed91-473e-8c36-060e4852e575\",\n  \"account_name\": \"dp100learning0966509990\",\n  \"protocol\": \"https\",\n  \"endpoint\": \"core.windows.net\"\n}"
          },
          "metadata": {}
        }
      ],
      "execution_count": 5,
      "metadata": {
        "jupyter": {
          "source_hidden": false,
          "outputs_hidden": false
        },
        "nteract": {
          "transient": {
            "deleting": false
          }
        },
        "gather": {
          "logged": 1733209232274
        }
      }
    },
    {
      "cell_type": "code",
      "source": [],
      "outputs": [],
      "execution_count": null,
      "metadata": {
        "jupyter": {
          "source_hidden": false,
          "outputs_hidden": false
        },
        "nteract": {
          "transient": {
            "deleting": false
          }
        }
      }
    }
  ],
  "metadata": {
    "kernelspec": {
      "name": "python310-sdkv2",
      "language": "python",
      "display_name": "Python 3.10 - SDK v2"
    },
    "language_info": {
      "name": "python",
      "version": "3.10.14",
      "mimetype": "text/x-python",
      "codemirror_mode": {
        "name": "ipython",
        "version": 3
      },
      "pygments_lexer": "ipython3",
      "nbconvert_exporter": "python",
      "file_extension": ".py"
    },
    "microsoft": {
      "ms_spell_check": {
        "ms_spell_check_language": "en"
      },
      "host": {
        "AzureML": {
          "notebookHasBeenCompleted": true
        }
      }
    },
    "kernel_info": {
      "name": "python310-sdkv2"
    },
    "nteract": {
      "version": "nteract-front-end@1.0.0"
    }
  },
  "nbformat": 4,
  "nbformat_minor": 2
}